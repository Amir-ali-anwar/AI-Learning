{
 "cells": [
  {
   "cell_type": "code",
   "execution_count": null,
   "id": "5afe9dc1",
   "metadata": {},
   "outputs": [],
   "source": [
    "!pip install ipykernel\n"
   ]
  },
  {
   "cell_type": "code",
   "execution_count": null,
   "id": "8d1f0d40",
   "metadata": {},
   "outputs": [],
   "source": [
    "import tensorflow as tf\n",
    "\n",
    "print(tf.__version__)"
   ]
  },
  {
   "cell_type": "code",
   "execution_count": null,
   "id": "e7c37ce9",
   "metadata": {},
   "outputs": [],
   "source": [
    "\n",
    "# Create tensors with tf.constant()\n",
    "\n",
    "scalar=tf.constant(7)\n",
    "scalar"
   ]
  },
  {
   "cell_type": "code",
   "execution_count": null,
   "id": "d0e4b5ee",
   "metadata": {},
   "outputs": [],
   "source": [
    "scalar.ndim"
   ]
  },
  {
   "cell_type": "code",
   "execution_count": null,
   "id": "99c19791",
   "metadata": {},
   "outputs": [],
   "source": [
    "# Creating vector\n",
    "vector= tf.constant([12,30])\n",
    "vector"
   ]
  },
  {
   "cell_type": "code",
   "execution_count": null,
   "id": "86863137",
   "metadata": {},
   "outputs": [],
   "source": [
    "vector.ndim"
   ]
  },
  {
   "cell_type": "code",
   "execution_count": null,
   "id": "8e14ac38",
   "metadata": {},
   "outputs": [],
   "source": [
    "matrix= tf.constant([[10,7],[8,10]])\n",
    "\n",
    "matrix"
   ]
  },
  {
   "cell_type": "code",
   "execution_count": null,
   "id": "f24269e7",
   "metadata": {},
   "outputs": [],
   "source": [
    "matrix.ndim"
   ]
  },
  {
   "cell_type": "code",
   "execution_count": null,
   "id": "0bdb7723",
   "metadata": {},
   "outputs": [],
   "source": [
    "another_matrix = tf.constant([[10.,7.],[11.,9.],[12.,9.],[13.,10.],[43.,41.]], dtype=tf.float16)\n",
    "\n",
    "another_matrix"
   ]
  },
  {
   "cell_type": "markdown",
   "id": "784fe61e",
   "metadata": {},
   "source": [
    "Indexing tensors\n",
    "Tensors can be indexed just like Python lists."
   ]
  },
  {
   "cell_type": "markdown",
   "id": "cc9b9f69",
   "metadata": {},
   "source": []
  },
  {
   "cell_type": "code",
   "execution_count": null,
   "id": "bd8693b0",
   "metadata": {},
   "outputs": [],
   "source": [
    "some_list=[1,2,3,4]\n",
    "some_list[2:]"
   ]
  },
  {
   "cell_type": "code",
   "execution_count": null,
   "id": "50b14877",
   "metadata": {},
   "outputs": [],
   "source": [
    "rank_4_tensor= tf.zeros(shape=[2,3,4,5])\n",
    "rank_4_tensor\n",
    "rank_4_tensor.shape"
   ]
  },
  {
   "cell_type": "code",
   "execution_count": null,
   "id": "69d1cce9",
   "metadata": {},
   "outputs": [],
   "source": [
    "rank_4_tensor[:1,:1,:1,:]"
   ]
  },
  {
   "cell_type": "code",
   "execution_count": null,
   "id": "4b7e1a9d",
   "metadata": {},
   "outputs": [],
   "source": [
    "# Create a rank 2 tensor (2 dimensions)\n",
    "\n",
    "rank_2_tensor = tf.constant([[10, 7],\n",
    "                             [3, 4]])\n",
    "\n",
    "rank_2_tensor.shape, rank_2_tensor.ndim\n"
   ]
  },
  {
   "cell_type": "code",
   "execution_count": null,
   "id": "dabe355b",
   "metadata": {},
   "outputs": [],
   "source": [
    "rank_2_tensor"
   ]
  },
  {
   "cell_type": "code",
   "execution_count": null,
   "id": "bfac6203",
   "metadata": {},
   "outputs": [],
   "source": [
    "rank_3_tensor=rank_2_tensor[..., tf.newaxis]\n",
    "rank_3_tensor\n",
    "\n",
    "rank_3_tensor.shape"
   ]
  },
  {
   "cell_type": "markdown",
   "id": "052a2664",
   "metadata": {},
   "source": [
    "Matrix multiplication\n",
    "\n",
    "In machine learning, matrix multiplication is one of the most common tensor operations.\n",
    "\n",
    "There are two rules our tensors (or matrices) need to fulfil if we're going to matrix multiply them:\n",
    "\n",
    "The inner dimensions must match\n",
    "The resulting matrix has the shape of the outer dimensions"
   ]
  },
  {
   "cell_type": "markdown",
   "id": "a99bdddd",
   "metadata": {},
   "source": []
  },
  {
   "cell_type": "code",
   "execution_count": null,
   "id": "e59a9870",
   "metadata": {},
   "outputs": [],
   "source": [
    "tensor = tf.constant([[10, 7], \n",
    "                      [3, 4]])\n",
    "tensor\n"
   ]
  },
  {
   "cell_type": "code",
   "execution_count": null,
   "id": "32fe1fb6",
   "metadata": {},
   "outputs": [],
   "source": [
    "tensor+10"
   ]
  },
  {
   "cell_type": "code",
   "execution_count": null,
   "id": "ea098a3d",
   "metadata": {},
   "outputs": [],
   "source": [
    "tensor"
   ]
  },
  {
   "cell_type": "code",
   "execution_count": null,
   "id": "312cfa3c",
   "metadata": {},
   "outputs": [],
   "source": [
    "tf.multiply(tensor,10)"
   ]
  },
  {
   "cell_type": "code",
   "execution_count": null,
   "id": "b3fbc94d",
   "metadata": {},
   "outputs": [],
   "source": [
    "tf.matmul(tensor, tensor)"
   ]
  },
  {
   "cell_type": "code",
   "execution_count": null,
   "id": "b5b4671d",
   "metadata": {},
   "outputs": [],
   "source": [
    "tensor, tensor"
   ]
  },
  {
   "cell_type": "code",
   "execution_count": null,
   "id": "2e727b5b",
   "metadata": {},
   "outputs": [],
   "source": [
    "tensor @ tensor\n"
   ]
  },
  {
   "cell_type": "code",
   "execution_count": null,
   "id": "c5101ea8",
   "metadata": {},
   "outputs": [],
   "source": [
    "X= tf.constant([[1, 2],\n",
    "                 [3, 4],\n",
    "                 [5, 6]])\n",
    "\n",
    "\n",
    "Y = tf.constant([[7, 8],\n",
    "                 [9, 10],\n",
    "                 [11, 12]])\n",
    "\n",
    "\n",
    "\n",
    "X,Y"
   ]
  },
  {
   "cell_type": "markdown",
   "id": "64883cf2",
   "metadata": {},
   "source": [
    "# Find the positional maximum and minimum\n"
   ]
  },
  {
   "cell_type": "markdown",
   "id": "02578e90",
   "metadata": {},
   "source": []
  },
  {
   "cell_type": "code",
   "execution_count": null,
   "id": "427a8078",
   "metadata": {},
   "outputs": [],
   "source": [
    "# Create a new tensor for finding positional minimum and maxmimum\n",
    "\n",
    "tf.random.set_seed(42)\n",
    "F=tf.random.uniform(shape=[50])\n",
    "F"
   ]
  },
  {
   "cell_type": "code",
   "execution_count": null,
   "id": "f3a68fe4",
   "metadata": {},
   "outputs": [],
   "source": [
    "id= tf.argmax(F)\n",
    "\n",
    "print(id.numpy())\n",
    "print(F[id].numpy())\n"
   ]
  },
  {
   "cell_type": "code",
   "execution_count": null,
   "id": "541ae722",
   "metadata": {},
   "outputs": [],
   "source": [
    "F[tf.argmax(F)]"
   ]
  },
  {
   "cell_type": "code",
   "execution_count": null,
   "id": "b0d582a1",
   "metadata": {},
   "outputs": [],
   "source": [
    "x = tf.constant([[[1], [2], [3]]])  \n",
    "print(x.shape)\n",
    "\n",
    "y= tf.squeeze(x)\n",
    "\n",
    "print(y)\n",
    "print(y.shape)\n"
   ]
  },
  {
   "cell_type": "code",
   "execution_count": null,
   "id": "377a61cf",
   "metadata": {},
   "outputs": [],
   "source": [
    "tf.random.set_seed(42)\n",
    "G= tf.constant(tf.random.uniform(shape=[50]), shape=(1,1,1,1,1,1,50))\n",
    "\n",
    "G\n",
    "\n",
    "G.shape"
   ]
  },
  {
   "cell_type": "code",
   "execution_count": null,
   "id": "4d91b65a",
   "metadata": {},
   "outputs": [],
   "source": [
    "G_squeezed =tf.squeeze(G)\n",
    "G_squeezed"
   ]
  },
  {
   "cell_type": "markdown",
   "id": "27ee5984",
   "metadata": {},
   "source": [
    "One-hot encoding tensors"
   ]
  },
  {
   "cell_type": "markdown",
   "id": "72c43340",
   "metadata": {},
   "source": []
  },
  {
   "cell_type": "code",
   "execution_count": 65,
   "id": "46213374",
   "metadata": {},
   "outputs": [
    {
     "data": {
      "text/plain": [
       "<tf.Tensor: shape=(3, 3), dtype=float32, numpy=\n",
       "array([[1., 0., 0.],\n",
       "       [0., 1., 0.],\n",
       "       [0., 0., 1.]], dtype=float32)>"
      ]
     },
     "execution_count": 65,
     "metadata": {},
     "output_type": "execute_result"
    }
   ],
   "source": [
    "some_list = [0, 1, 2]\n",
    "\n",
    "tf.one_hot(some_list,depth=3)"
   ]
  },
  {
   "cell_type": "code",
   "execution_count": null,
   "id": "cbf21952",
   "metadata": {},
   "outputs": [],
   "source": []
  }
 ],
 "metadata": {
  "kernelspec": {
   "display_name": "Python 3",
   "language": "python",
   "name": "python3"
  },
  "language_info": {
   "codemirror_mode": {
    "name": "ipython",
    "version": 3
   },
   "file_extension": ".py",
   "mimetype": "text/x-python",
   "name": "python",
   "nbconvert_exporter": "python",
   "pygments_lexer": "ipython3",
   "version": "3.10.10"
  }
 },
 "nbformat": 4,
 "nbformat_minor": 5
}
